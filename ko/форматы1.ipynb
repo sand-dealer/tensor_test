{
  "cells": [
    {
      "cell_type": "markdown",
      "id": "b4d25f25",
      "metadata": {
        "id": "gl_GHX6D7l3sl"
      },
      "source": [
        "<!---\n",
        "\n",
        "Hi Ilya\n",
        "-->"
      ]
    },
    {
      "cell_type": "markdown",
      "id": "abbdc06c",
      "metadata": {
      },
      "source": [
        "---\n",
        "\n",
        "내: 이름: Kate2 직업: 통역사\n",
        "\n",
        "---"
      ]
    },
    {
      "cell_type": "markdown",
      "id": "d1087828",
      "metadata": {
      },
      "source": [
        "# 수업 2."
      ]
    },
    {
      "cell_type": "markdown",
      "id": "6425db25",
      "metadata": {
      },
      "source": [
        "## 당신이 온 가족"
      ]
    },
    {
      "cell_type": "markdown",
      "id": "49c5eb1d",
      "metadata": {
      },
      "source": [
        "1. 아래 단어들을 보세요. suffix x -hood은(는) 무슨 뜻인가요?\n",
        "2. 목록에 더 많은 단어를 추가하십시오.\n",
        "3. 쌍으로 작업하십시오. 어린 시절에 대한 질문에 대해 토론하십시오.?"
      ]
    },
    {
      "cell_type": "markdown",
      "id": "f538597f",
      "metadata": {
      },
      "source": [
        "# 수업 3."
      ]
    },
    {
      "cell_type": "markdown",
      "id": "718b6d4f",
      "metadata": {
      },
      "source": [
        "## 현대적인 가족"
      ]
    },
    {
      "cell_type": "markdown",
      "id": "1cb70808",
      "metadata": {
      },
      "source": [
        "- 통계는 무엇에 대해 알려줄 수 있습니까? 통계에 관심이 있습니까? 아래 정보를 읽으십시오. 통계는 단수 명사입니까, 복수 명사입니까?\n",
        "- 통계는 평균적인 현대 가정에 대해 무엇을 말할 수 있습니까? 아래의 프롬프트와 자신의 아이디어를 사용하십시오."
      ]
    },
    {
      "cell_type": "markdown",
      "id": "a08073bc",
      "metadata": {
        "id": "gl_2LOVTUwrCL"
      },
      "source": [
        "***"
      ]
    },
    {
      "cell_type": "markdown",
      "id": "fe86dd82",
      "metadata": {
      },
      "source": [
        "> 테이블"
      ]
    },
    {
      "cell_type": "markdown",
      "id": "6f27920e",
      "metadata": {
      },
      "source": [
        "이름 | 대답\n",
        "--- | ---\n",
        "부모 10명 중 9명 이상 | 90분\n",
        "가족의 약 5분의 1 | 91%\n",
        "8시 반 | 31%\n",
        "거의 3분의 1 | 8:30"
      ]
    },
    {
      "cell_type": "markdown",
      "id": "52251d42",
      "metadata": {
      },
      "source": [
        "[우유](https://ru.wikipedia.org/wiki/%D0%9C%D0%BE%D0%BB%D0%BE%D0%BA%D0%BE)"
      ]
    },
    {
      "cell_type": "markdown",
      "id": "c5013c7b",
      "metadata": {
        "id": "gl_FRui5eov7f"
      },
      "source": [
        "---"
      ]
    },
    {
      "cell_type": "markdown",
      "id": "eb4c9684",
      "metadata": {
      },
      "source": [
        "[치즈](https://ru.wikipedia.org/wiki/%D0%A1%D1%8B%D1%80)"
      ]
    },
    {
      "cell_type": "markdown",
      "id": "ce4da703",
      "metadata": {
      },
      "source": [
        "### 사진"
      ]
    },
    {
      "cell_type": "markdown",
      "id": "c40e0223",
      "metadata": {
      },
      "source": [
        "![p1](https://ekootkr.ot7.ru/admin/uploads/7/7/1/%D0%9E%D1%82%D0%BA%D1%80%D1%8B%D1%82%D0%BA%D0%B0-%D1%81-%D1%86%D0%B2%D0%B5%D1%82%D0%B0%D0%BC%D0%B8-%D0%BF%D0%BE%D0%B7%D0%B4%D1%80%D0%B0%D0%B2%D0%BB%D1%8F%D1%8E-%D0%BA%D0%B0%D1%80%D1%82%D0%B8%D0%BD%D0%BA%D0%B8-%D1%81-%D0%BD%D0%B0%D0%B4%D0%BF%D0%B8%D1%81%D1%8C%D1%8E-%D0%9F%D0%BE%D0%B7%D0%B4%D1%80%D0%B0%D0%B2%D0%BB%D1%8F%D1%8E-11515.jpg)"
      ]
    },
    {
      "cell_type": "markdown",
      "id": "2507d5ae",
      "metadata": {
      },
      "source": [
        "![p2](https://c.tenor.com/9zmtHZ0tIjkAAAAj/nyancat-rainbow-cat.gif)"
      ]
    },
    {
      "cell_type": "markdown",
      "id": "8d46501c",
      "metadata": {
      },
      "source": [
        "![p3](https://c.tenor.com/S_WORoAuUq8AAAAM/yummy-funny.gif)"
      ]
    },
    {
      "cell_type": "markdown",
      "id": "db5c1283",
      "metadata": {
      },
      "source": [
        "```\n",
        "{\n",
        "  <html>\n",
        "<head>\n",
        "<meta charset=\"UTF-8\">\n",
        "<title>Заголовок страницы</title>\n",
        "</head>\n",
        "  <body>\n",
        "    <h1>Это заголовок</h1>\n",
        "    <p>Это параграф.</p>\n",
        "  </body>\n",
        "</html>\n",
        "}\n",
        "```"
      ]
    }
  ],
  "metadata": {
    "kernelspec": {
      "display_name": "Python 3",
      "language": "python",
      "name": "python3"
    },
    "language_info": {
      "codemirror_mode": {
        "name": "ipython",
        "version": 3
      },
      "file_extension": ".py",
      "mimetype": "text/x-python",
      "name": "python",
      "nbconvert_exporter": "python",
      "pygments_lexer": "ipython3",
      "version": "3.8.8"
    }
  },
  "nbformat": 4,
  "nbformat_minor": 5
}
